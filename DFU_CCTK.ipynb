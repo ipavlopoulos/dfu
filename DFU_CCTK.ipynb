{
  "cells": [
    {
      "cell_type": "markdown",
      "metadata": {
        "id": "view-in-github",
        "colab_type": "text"
      },
      "source": [
        "<a href=\"https://colab.research.google.com/github/ipavlopoulos/dfu/blob/main/DFU_CCTK.ipynb\" target=\"_parent\"><img src=\"https://colab.research.google.com/assets/colab-badge.svg\" alt=\"Open In Colab\"/></a>"
      ]
    },
    {
      "cell_type": "code",
      "execution_count": 1,
      "metadata": {
        "id": "dIfPyMBBablF"
      },
      "outputs": [],
      "source": [
        "from collections import Counter\n",
        "import seaborn as sns\n",
        "import pandas as pd\n",
        "import numpy as np\n",
        "import matplotlib.pyplot as plt\n",
        "from ast import literal_eval\n",
        "from sklearn.metrics import *"
      ]
    },
    {
      "cell_type": "code",
      "execution_count": 2,
      "metadata": {
        "id": "VPSLG1cPgPVz"
      },
      "outputs": [],
      "source": [
        "%%capture\n",
        "!pip install ktrain\n",
        "import ktrain\n",
        "from ktrain import text"
      ]
    },
    {
      "cell_type": "code",
      "execution_count": 3,
      "metadata": {
        "id": "h2rWpycSZ4JS"
      },
      "outputs": [],
      "source": [
        "%%capture\n",
        "!git clone https://github.com/ipavlopoulos/dfu.git"
      ]
    },
    {
      "cell_type": "code",
      "source": [
        "train = pd.read_csv(\"dfu/cctk_train.countries.csv.gz\", parse_dates=[\"created_at\"])\n",
        "train.country = train.country.apply(literal_eval)  \n",
        "test = pd.read_csv(\"dfu/cctk_test.csv.gz\", parse_dates=[\"created_at\"])\n",
        "dev = pd.read_csv(\"dfu/cctk_dev.csv.gz\", parse_dates=[\"created_at\"])\n",
        "train.sample()"
      ],
      "metadata": {
        "colab": {
          "base_uri": "https://localhost:8080/",
          "height": 81
        },
        "id": "4B1tCxsDT54F",
        "outputId": "b943bf42-712c-41d2-87e1-752b5f2ab534"
      },
      "execution_count": 4,
      "outputs": [
        {
          "output_type": "execute_result",
          "data": {
            "text/plain": [
              "              created_at                                               text  \\\n",
              "9112 2018-07-16 20:51:33  It's about as easy for a white person to notic...   \n",
              "\n",
              "                              scores             country  \n",
              "9112  [1.0, 1.0, 1.0, 1.0, 1.0, 1.0]  [1, 6, 1, 1, 1, 5]  "
            ],
            "text/html": [
              "\n",
              "  <div id=\"df-9e78b01a-caf0-4dfa-be6d-dca803b1c39c\">\n",
              "    <div class=\"colab-df-container\">\n",
              "      <div>\n",
              "<style scoped>\n",
              "    .dataframe tbody tr th:only-of-type {\n",
              "        vertical-align: middle;\n",
              "    }\n",
              "\n",
              "    .dataframe tbody tr th {\n",
              "        vertical-align: top;\n",
              "    }\n",
              "\n",
              "    .dataframe thead th {\n",
              "        text-align: right;\n",
              "    }\n",
              "</style>\n",
              "<table border=\"1\" class=\"dataframe\">\n",
              "  <thead>\n",
              "    <tr style=\"text-align: right;\">\n",
              "      <th></th>\n",
              "      <th>created_at</th>\n",
              "      <th>text</th>\n",
              "      <th>scores</th>\n",
              "      <th>country</th>\n",
              "    </tr>\n",
              "  </thead>\n",
              "  <tbody>\n",
              "    <tr>\n",
              "      <th>9112</th>\n",
              "      <td>2018-07-16 20:51:33</td>\n",
              "      <td>It's about as easy for a white person to notic...</td>\n",
              "      <td>[1.0, 1.0, 1.0, 1.0, 1.0, 1.0]</td>\n",
              "      <td>[1, 6, 1, 1, 1, 5]</td>\n",
              "    </tr>\n",
              "  </tbody>\n",
              "</table>\n",
              "</div>\n",
              "      <button class=\"colab-df-convert\" onclick=\"convertToInteractive('df-9e78b01a-caf0-4dfa-be6d-dca803b1c39c')\"\n",
              "              title=\"Convert this dataframe to an interactive table.\"\n",
              "              style=\"display:none;\">\n",
              "        \n",
              "  <svg xmlns=\"http://www.w3.org/2000/svg\" height=\"24px\"viewBox=\"0 0 24 24\"\n",
              "       width=\"24px\">\n",
              "    <path d=\"M0 0h24v24H0V0z\" fill=\"none\"/>\n",
              "    <path d=\"M18.56 5.44l.94 2.06.94-2.06 2.06-.94-2.06-.94-.94-2.06-.94 2.06-2.06.94zm-11 1L8.5 8.5l.94-2.06 2.06-.94-2.06-.94L8.5 2.5l-.94 2.06-2.06.94zm10 10l.94 2.06.94-2.06 2.06-.94-2.06-.94-.94-2.06-.94 2.06-2.06.94z\"/><path d=\"M17.41 7.96l-1.37-1.37c-.4-.4-.92-.59-1.43-.59-.52 0-1.04.2-1.43.59L10.3 9.45l-7.72 7.72c-.78.78-.78 2.05 0 2.83L4 21.41c.39.39.9.59 1.41.59.51 0 1.02-.2 1.41-.59l7.78-7.78 2.81-2.81c.8-.78.8-2.07 0-2.86zM5.41 20L4 18.59l7.72-7.72 1.47 1.35L5.41 20z\"/>\n",
              "  </svg>\n",
              "      </button>\n",
              "      \n",
              "  <style>\n",
              "    .colab-df-container {\n",
              "      display:flex;\n",
              "      flex-wrap:wrap;\n",
              "      gap: 12px;\n",
              "    }\n",
              "\n",
              "    .colab-df-convert {\n",
              "      background-color: #E8F0FE;\n",
              "      border: none;\n",
              "      border-radius: 50%;\n",
              "      cursor: pointer;\n",
              "      display: none;\n",
              "      fill: #1967D2;\n",
              "      height: 32px;\n",
              "      padding: 0 0 0 0;\n",
              "      width: 32px;\n",
              "    }\n",
              "\n",
              "    .colab-df-convert:hover {\n",
              "      background-color: #E2EBFA;\n",
              "      box-shadow: 0px 1px 2px rgba(60, 64, 67, 0.3), 0px 1px 3px 1px rgba(60, 64, 67, 0.15);\n",
              "      fill: #174EA6;\n",
              "    }\n",
              "\n",
              "    [theme=dark] .colab-df-convert {\n",
              "      background-color: #3B4455;\n",
              "      fill: #D2E3FC;\n",
              "    }\n",
              "\n",
              "    [theme=dark] .colab-df-convert:hover {\n",
              "      background-color: #434B5C;\n",
              "      box-shadow: 0px 1px 3px 1px rgba(0, 0, 0, 0.15);\n",
              "      filter: drop-shadow(0px 1px 2px rgba(0, 0, 0, 0.3));\n",
              "      fill: #FFFFFF;\n",
              "    }\n",
              "  </style>\n",
              "\n",
              "      <script>\n",
              "        const buttonEl =\n",
              "          document.querySelector('#df-9e78b01a-caf0-4dfa-be6d-dca803b1c39c button.colab-df-convert');\n",
              "        buttonEl.style.display =\n",
              "          google.colab.kernel.accessAllowed ? 'block' : 'none';\n",
              "\n",
              "        async function convertToInteractive(key) {\n",
              "          const element = document.querySelector('#df-9e78b01a-caf0-4dfa-be6d-dca803b1c39c');\n",
              "          const dataTable =\n",
              "            await google.colab.kernel.invokeFunction('convertToInteractive',\n",
              "                                                     [key], {});\n",
              "          if (!dataTable) return;\n",
              "\n",
              "          const docLinkHtml = 'Like what you see? Visit the ' +\n",
              "            '<a target=\"_blank\" href=https://colab.research.google.com/notebooks/data_table.ipynb>data table notebook</a>'\n",
              "            + ' to learn more about interactive tables.';\n",
              "          element.innerHTML = '';\n",
              "          dataTable['output_type'] = 'display_data';\n",
              "          await google.colab.output.renderOutput(dataTable, element);\n",
              "          const docLink = document.createElement('div');\n",
              "          docLink.innerHTML = docLinkHtml;\n",
              "          element.appendChild(docLink);\n",
              "        }\n",
              "      </script>\n",
              "    </div>\n",
              "  </div>\n",
              "  "
            ]
          },
          "metadata": {},
          "execution_count": 4
        }
      ]
    },
    {
      "cell_type": "markdown",
      "source": [
        "Compute the average toxicity, st. dev., and DFU"
      ],
      "metadata": {
        "id": "NM1GQLXLts4I"
      }
    },
    {
      "cell_type": "code",
      "source": [
        "from dfu.lib import to_hist, dfu\n",
        "for dataset in (train, dev, test):\n",
        "  dataset.scores = dataset.scores.apply(literal_eval)\n",
        "  dataset.set_index(\"created_at\", inplace=True)\n",
        "  dataset[\"AVG\"] = dataset.scores.apply(np.mean)\n",
        "  dataset[\"STD\"] = dataset.scores.apply(np.std)\n",
        "  dataset[\"HIST\"] = dataset.scores.apply(to_hist)\n",
        "  dataset[\"DFU\"] = dataset.HIST.apply(dfu)"
      ],
      "metadata": {
        "id": "iDEc9lRvXA4_"
      },
      "execution_count": 5,
      "outputs": []
    },
    {
      "cell_type": "markdown",
      "metadata": {
        "id": "ZkfuAmfDeXpF"
      },
      "source": [
        "## Exploratory\n",
        "A unique integer represents each country name."
      ]
    },
    {
      "cell_type": "code",
      "execution_count": 6,
      "metadata": {
        "colab": {
          "base_uri": "https://localhost:8080/",
          "height": 281
        },
        "id": "StUPO2NBeRTC",
        "outputId": "1496e853-4de8-42dd-8c93-c65bdee8ac34"
      },
      "outputs": [
        {
          "output_type": "display_data",
          "data": {
            "text/plain": [
              "<Figure size 432x288 with 2 Axes>"
            ],
            "image/png": "[encoded data removed]"
          },
          "metadata": {
            "needs_background": "light"
          }
        }
      ],
      "source": [
        "train.sort_values(by=\"created_at\")[[\"DFU\", \"AVG\"]].hist();"
      ]
    },
    {
      "cell_type": "markdown",
      "metadata": {
        "id": "vSBcnGxcbSby"
      },
      "source": [
        "#### Exploring what happens in high-DFU texts.\n",
        "* Do workers in high-DFU posts come from the same or other countries? \n",
        "* If country variation exists, are the poles across countries?\n",
        "* Are polarised posts liked/disliked much? \n",
        "* Filter posts which are perceived differently across countries."
      ]
    },
    {
      "cell_type": "code",
      "execution_count": 7,
      "metadata": {
        "colab": {
          "base_uri": "https://localhost:8080/",
          "height": 112
        },
        "id": "6W-1dNIxefXW",
        "outputId": "425d8ccf-9d8b-48be-93ee-338911491f09"
      },
      "outputs": [
        {
          "output_type": "execute_result",
          "data": {
            "text/plain": [
              "                                                                  text  \\\n",
              "created_at                                                               \n",
              "2018-07-16 20:29:16  _\"Re-Post #1 Someone didn’t like the word ‘vit...   \n",
              "\n",
              "                                                                scores  \\\n",
              "created_at                                                               \n",
              "2018-07-16 20:29:16  [-1.0, 1.0, 1.0, -1.0, -1.0, 1.0, 1.0, -1.0, -...   \n",
              "\n",
              "                                              country  AVG  STD  \\\n",
              "created_at                                                        \n",
              "2018-07-16 20:29:16  [1, 14, 11, 1, 6, 1, 1, 1, 1, 1]  0.0  1.0   \n",
              "\n",
              "                                HIST  DFU  \n",
              "created_at                                 \n",
              "2018-07-16 20:29:16  [0.5, 0.0, 0.5]  0.5  "
            ],
            "text/html": [
              "\n",
              "  <div id=\"df-1dadaf4b-5d04-4fbb-a376-6806b49b9720\">\n",
              "    <div class=\"colab-df-container\">\n",
              "      <div>\n",
              "<style scoped>\n",
              "    .dataframe tbody tr th:only-of-type {\n",
              "        vertical-align: middle;\n",
              "    }\n",
              "\n",
              "    .dataframe tbody tr th {\n",
              "        vertical-align: top;\n",
              "    }\n",
              "\n",
              "    .dataframe thead th {\n",
              "        text-align: right;\n",
              "    }\n",
              "</style>\n",
              "<table border=\"1\" class=\"dataframe\">\n",
              "  <thead>\n",
              "    <tr style=\"text-align: right;\">\n",
              "      <th></th>\n",
              "      <th>text</th>\n",
              "      <th>scores</th>\n",
              "      <th>country</th>\n",
              "      <th>AVG</th>\n",
              "      <th>STD</th>\n",
              "      <th>HIST</th>\n",
              "      <th>DFU</th>\n",
              "    </tr>\n",
              "    <tr>\n",
              "      <th>created_at</th>\n",
              "      <th></th>\n",
              "      <th></th>\n",
              "      <th></th>\n",
              "      <th></th>\n",
              "      <th></th>\n",
              "      <th></th>\n",
              "      <th></th>\n",
              "    </tr>\n",
              "  </thead>\n",
              "  <tbody>\n",
              "    <tr>\n",
              "      <th>2018-07-16 20:29:16</th>\n",
              "      <td>_\"Re-Post #1 Someone didn’t like the word ‘vit...</td>\n",
              "      <td>[-1.0, 1.0, 1.0, -1.0, -1.0, 1.0, 1.0, -1.0, -...</td>\n",
              "      <td>[1, 14, 11, 1, 6, 1, 1, 1, 1, 1]</td>\n",
              "      <td>0.0</td>\n",
              "      <td>1.0</td>\n",
              "      <td>[0.5, 0.0, 0.5]</td>\n",
              "      <td>0.5</td>\n",
              "    </tr>\n",
              "  </tbody>\n",
              "</table>\n",
              "</div>\n",
              "      <button class=\"colab-df-convert\" onclick=\"convertToInteractive('df-1dadaf4b-5d04-4fbb-a376-6806b49b9720')\"\n",
              "              title=\"Convert this dataframe to an interactive table.\"\n",
              "              style=\"display:none;\">\n",
              "        \n",
              "  <svg xmlns=\"http://www.w3.org/2000/svg\" height=\"24px\"viewBox=\"0 0 24 24\"\n",
              "       width=\"24px\">\n",
              "    <path d=\"M0 0h24v24H0V0z\" fill=\"none\"/>\n",
              "    <path d=\"M18.56 5.44l.94 2.06.94-2.06 2.06-.94-2.06-.94-.94-2.06-.94 2.06-2.06.94zm-11 1L8.5 8.5l.94-2.06 2.06-.94-2.06-.94L8.5 2.5l-.94 2.06-2.06.94zm10 10l.94 2.06.94-2.06 2.06-.94-2.06-.94-.94-2.06-.94 2.06-2.06.94z\"/><path d=\"M17.41 7.96l-1.37-1.37c-.4-.4-.92-.59-1.43-.59-.52 0-1.04.2-1.43.59L10.3 9.45l-7.72 7.72c-.78.78-.78 2.05 0 2.83L4 21.41c.39.39.9.59 1.41.59.51 0 1.02-.2 1.41-.59l7.78-7.78 2.81-2.81c.8-.78.8-2.07 0-2.86zM5.41 20L4 18.59l7.72-7.72 1.47 1.35L5.41 20z\"/>\n",
              "  </svg>\n",
              "      </button>\n",
              "      \n",
              "  <style>\n",
              "    .colab-df-container {\n",
              "      display:flex;\n",
              "      flex-wrap:wrap;\n",
              "      gap: 12px;\n",
              "    }\n",
              "\n",
              "    .colab-df-convert {\n",
              "      background-color: #E8F0FE;\n",
              "      border: none;\n",
              "      border-radius: 50%;\n",
              "      cursor: pointer;\n",
              "      display: none;\n",
              "      fill: #1967D2;\n",
              "      height: 32px;\n",
              "      padding: 0 0 0 0;\n",
              "      width: 32px;\n",
              "    }\n",
              "\n",
              "    .colab-df-convert:hover {\n",
              "      background-color: #E2EBFA;\n",
              "      box-shadow: 0px 1px 2px rgba(60, 64, 67, 0.3), 0px 1px 3px 1px rgba(60, 64, 67, 0.15);\n",
              "      fill: #174EA6;\n",
              "    }\n",
              "\n",
              "    [theme=dark] .colab-df-convert {\n",
              "      background-color: #3B4455;\n",
              "      fill: #D2E3FC;\n",
              "    }\n",
              "\n",
              "    [theme=dark] .colab-df-convert:hover {\n",
              "      background-color: #434B5C;\n",
              "      box-shadow: 0px 1px 3px 1px rgba(0, 0, 0, 0.15);\n",
              "      filter: drop-shadow(0px 1px 2px rgba(0, 0, 0, 0.3));\n",
              "      fill: #FFFFFF;\n",
              "    }\n",
              "  </style>\n",
              "\n",
              "      <script>\n",
              "        const buttonEl =\n",
              "          document.querySelector('#df-1dadaf4b-5d04-4fbb-a376-6806b49b9720 button.colab-df-convert');\n",
              "        buttonEl.style.display =\n",
              "          google.colab.kernel.accessAllowed ? 'block' : 'none';\n",
              "\n",
              "        async function convertToInteractive(key) {\n",
              "          const element = document.querySelector('#df-1dadaf4b-5d04-4fbb-a376-6806b49b9720');\n",
              "          const dataTable =\n",
              "            await google.colab.kernel.invokeFunction('convertToInteractive',\n",
              "                                                     [key], {});\n",
              "          if (!dataTable) return;\n",
              "\n",
              "          const docLinkHtml = 'Like what you see? Visit the ' +\n",
              "            '<a target=\"_blank\" href=https://colab.research.google.com/notebooks/data_table.ipynb>data table notebook</a>'\n",
              "            + ' to learn more about interactive tables.';\n",
              "          element.innerHTML = '';\n",
              "          dataTable['output_type'] = 'display_data';\n",
              "          await google.colab.output.renderOutput(dataTable, element);\n",
              "          const docLink = document.createElement('div');\n",
              "          docLink.innerHTML = docLinkHtml;\n",
              "          element.appendChild(docLink);\n",
              "        }\n",
              "      </script>\n",
              "    </div>\n",
              "  </div>\n",
              "  "
            ]
          },
          "metadata": {},
          "execution_count": 7
        }
      ],
      "source": [
        "high_dfu = train[train.DFU==train.DFU.max()]\n",
        "high_dfu.sample()"
      ]
    },
    {
      "cell_type": "code",
      "execution_count": 8,
      "metadata": {
        "colab": {
          "base_uri": "https://localhost:8080/",
          "height": 285
        },
        "id": "7h6W0H4cgVAx",
        "outputId": "6a968b1a-b023-4e6d-cd64-c6704fd94b9c"
      },
      "outputs": [
        {
          "output_type": "stream",
          "name": "stdout",
          "text": [
            "Workers who annotated these posts come from 38 different countries.\n"
          ]
        },
        {
          "output_type": "display_data",
          "data": {
            "text/plain": [
              "<Figure size 432x288 with 1 Axes>"
            ],
            "image/png": "[encoded data removed]"
          },
          "metadata": {
            "needs_background": "light"
          }
        }
      ],
      "source": [
        "print(f\"Workers who annotated these posts come from {len(high_dfu.country.explode().unique())} different countries.\")\n",
        "high_dfu.country.explode().value_counts()[:10].plot.bar();"
      ]
    },
    {
      "cell_type": "markdown",
      "source": [
        "Number of high-DFU posts for which the annotators came from the same country, compared to high-DFU posts for which they came from two."
      ],
      "metadata": {
        "id": "BbWQfRGzxOh0"
      }
    },
    {
      "cell_type": "code",
      "execution_count": 9,
      "metadata": {
        "colab": {
          "base_uri": "https://localhost:8080/"
        },
        "id": "AaepKL5qgtM4",
        "outputId": "3fc0cd20-e6f0-424b-890f-041e815fd092"
      },
      "outputs": [
        {
          "output_type": "stream",
          "name": "stdout",
          "text": [
            "In 19 (9.55%) posts all the annotators came from the same country, in 42 (21.11%) came from two; the rest had more.\n"
          ]
        }
      ],
      "source": [
        "c1_high_dfu = high_dfu[high_dfu.country.apply(lambda x: len(set(x))==1)]\n",
        "c2_high_dfu = high_dfu[high_dfu.country.apply(lambda x: len(set(x))==2)]\n",
        "print(f\"In {c1_high_dfu.shape[0]} ({100*c1_high_dfu.shape[0]/high_dfu.shape[0]:.2f}%) posts all the annotators came from the same country, in {c2_high_dfu.shape[0]} ({100*c2_high_dfu.shape[0]/high_dfu.shape[0]:.2f}%) came from two; the rest had more.\")"
      ]
    },
    {
      "cell_type": "markdown",
      "metadata": {
        "id": "Wdaa4jGnmWkN"
      },
      "source": [
        "Posts with different perception across countries"
      ]
    },
    {
      "cell_type": "code",
      "execution_count": null,
      "metadata": {
        "id": "hr1qVA8zhrzq"
      },
      "outputs": [],
      "source": [
        "def cross_country_diff(countries, scores):\n",
        "  dist_count = list(set(countries)) \n",
        "  assert len(dist_count)==2 # dim=2, always\n",
        "  country_scores = {dist_count[0]:[], dist_count[1]:[]}\n",
        "  for i in range(len(countries)):\n",
        "    country_scores[countries[i]].append(scores[i])\n",
        "  c1, c2 = np.mean(country_scores[dist_count[0]]), np.mean(country_scores[dist_count[1]])\n",
        "  return max([c1,c2]) - min(c1,c2)\n",
        "\n",
        "c2_high_dfu[\"cross_country_diff\"] = c2_high_dfu.apply(lambda row: cross_country_diff(row.country, row.scores), 1)"
      ]
    },
    {
      "cell_type": "code",
      "execution_count": 13,
      "metadata": {
        "colab": {
          "base_uri": "https://localhost:8080/",
          "height": 368
        },
        "id": "aZiUEN5nlVBF",
        "outputId": "934b54cf-8967-4b76-a054-3c43503944ab"
      },
      "outputs": [
        {
          "output_type": "execute_result",
          "data": {
            "text/plain": [
              "                                                                  text  \\\n",
              "created_at                                                               \n",
              "2018-07-16 20:10:34  I'll second that. Ignorance is just lack of kn...   \n",
              "2018-07-16 17:10:48        She's married to an unindicted pedophile,,,   \n",
              "2018-07-13 19:44:27  Why don't you stick with molesting women you s...   \n",
              "2018-07-16 20:34:48  If they did this they should be locked away fo...   \n",
              "2018-07-16 20:36:50  Ridiculous the left has no credibility. And yo...   \n",
              "\n",
              "                                                                scores  \\\n",
              "created_at                                                               \n",
              "2018-07-16 20:10:34  [-1.0, 1.0, 1.0, -1.0, 1.0, 1.0, -1.0, -1.0, -...   \n",
              "2018-07-16 17:10:48  [1.0, -1.0, -1.0, 1.0, -1.0, 1.0, 1.0, -1.0, -...   \n",
              "2018-07-13 19:44:27  [1.0, -1.0, 1.0, 1.0, -1.0, 1.0, -1.0, -1.0, -...   \n",
              "2018-07-16 20:34:48  [1.0, 1.0, 1.0, -1.0, -1.0, -1.0, -1.0, -1.0, ...   \n",
              "2018-07-16 20:36:50  [-1.0, 1.0, -1.0, 1.0, -1.0, 1.0, 1.0, 1.0, -1...   \n",
              "\n",
              "                                              country  AVG  STD  \\\n",
              "created_at                                                        \n",
              "2018-07-16 20:10:34  [12, 1, 1, 1, 1, 1, 1, 12, 1, 1]  0.0  1.0   \n",
              "2018-07-16 17:10:48  [1, 1, 12, 1, 1, 1, 1, 12, 1, 1]  0.0  1.0   \n",
              "2018-07-13 19:44:27    [1, 1, 1, 1, 5, 1, 1, 1, 1, 1]  0.0  1.0   \n",
              "2018-07-16 20:34:48   [1, 32, 1, 1, 1, 1, 1, 1, 1, 1]  0.0  1.0   \n",
              "2018-07-16 20:36:50   [1, 1, 1, 1, 1, 10, 1, 1, 1, 1]  0.0  1.0   \n",
              "\n",
              "                                HIST  DFU  cross_country_diff  \n",
              "created_at                                                     \n",
              "2018-07-16 20:10:34  [0.5, 0.0, 0.5]  0.5            1.250000  \n",
              "2018-07-16 17:10:48  [0.5, 0.0, 0.5]  0.5            1.250000  \n",
              "2018-07-13 19:44:27  [0.5, 0.0, 0.5]  0.5            1.111111  \n",
              "2018-07-16 20:34:48  [0.5, 0.0, 0.5]  0.5            1.111111  \n",
              "2018-07-16 20:36:50  [0.5, 0.0, 0.5]  0.5            1.111111  "
            ],
            "text/html": [
              "\n",
              "  <div id=\"df-546227bd-352b-4054-9e7f-a7f4d0c28b62\">\n",
              "    <div class=\"colab-df-container\">\n",
              "      <div>\n",
              "<style scoped>\n",
              "    .dataframe tbody tr th:only-of-type {\n",
              "        vertical-align: middle;\n",
              "    }\n",
              "\n",
              "    .dataframe tbody tr th {\n",
              "        vertical-align: top;\n",
              "    }\n",
              "\n",
              "    .dataframe thead th {\n",
              "        text-align: right;\n",
              "    }\n",
              "</style>\n",
              "<table border=\"1\" class=\"dataframe\">\n",
              "  <thead>\n",
              "    <tr style=\"text-align: right;\">\n",
              "      <th></th>\n",
              "      <th>text</th>\n",
              "      <th>scores</th>\n",
              "      <th>country</th>\n",
              "      <th>AVG</th>\n",
              "      <th>STD</th>\n",
              "      <th>HIST</th>\n",
              "      <th>DFU</th>\n",
              "      <th>cross_country_diff</th>\n",
              "    </tr>\n",
              "    <tr>\n",
              "      <th>created_at</th>\n",
              "      <th></th>\n",
              "      <th></th>\n",
              "      <th></th>\n",
              "      <th></th>\n",
              "      <th></th>\n",
              "      <th></th>\n",
              "      <th></th>\n",
              "      <th></th>\n",
              "    </tr>\n",
              "  </thead>\n",
              "  <tbody>\n",
              "    <tr>\n",
              "      <th>2018-07-16 20:10:34</th>\n",
              "      <td>I'll second that. Ignorance is just lack of kn...</td>\n",
              "      <td>[-1.0, 1.0, 1.0, -1.0, 1.0, 1.0, -1.0, -1.0, -...</td>\n",
              "      <td>[12, 1, 1, 1, 1, 1, 1, 12, 1, 1]</td>\n",
              "      <td>0.0</td>\n",
              "      <td>1.0</td>\n",
              "      <td>[0.5, 0.0, 0.5]</td>\n",
              "      <td>0.5</td>\n",
              "      <td>1.250000</td>\n",
              "    </tr>\n",
              "    <tr>\n",
              "      <th>2018-07-16 17:10:48</th>\n",
              "      <td>She's married to an unindicted pedophile,,,</td>\n",
              "      <td>[1.0, -1.0, -1.0, 1.0, -1.0, 1.0, 1.0, -1.0, -...</td>\n",
              "      <td>[1, 1, 12, 1, 1, 1, 1, 12, 1, 1]</td>\n",
              "      <td>0.0</td>\n",
              "      <td>1.0</td>\n",
              "      <td>[0.5, 0.0, 0.5]</td>\n",
              "      <td>0.5</td>\n",
              "      <td>1.250000</td>\n",
              "    </tr>\n",
              "    <tr>\n",
              "      <th>2018-07-13 19:44:27</th>\n",
              "      <td>Why don't you stick with molesting women you s...</td>\n",
              "      <td>[1.0, -1.0, 1.0, 1.0, -1.0, 1.0, -1.0, -1.0, -...</td>\n",
              "      <td>[1, 1, 1, 1, 5, 1, 1, 1, 1, 1]</td>\n",
              "      <td>0.0</td>\n",
              "      <td>1.0</td>\n",
              "      <td>[0.5, 0.0, 0.5]</td>\n",
              "      <td>0.5</td>\n",
              "      <td>1.111111</td>\n",
              "    </tr>\n",
              "    <tr>\n",
              "      <th>2018-07-16 20:34:48</th>\n",
              "      <td>If they did this they should be locked away fo...</td>\n",
              "      <td>[1.0, 1.0, 1.0, -1.0, -1.0, -1.0, -1.0, -1.0, ...</td>\n",
              "      <td>[1, 32, 1, 1, 1, 1, 1, 1, 1, 1]</td>\n",
              "      <td>0.0</td>\n",
              "      <td>1.0</td>\n",
              "      <td>[0.5, 0.0, 0.5]</td>\n",
              "      <td>0.5</td>\n",
              "      <td>1.111111</td>\n",
              "    </tr>\n",
              "    <tr>\n",
              "      <th>2018-07-16 20:36:50</th>\n",
              "      <td>Ridiculous the left has no credibility. And yo...</td>\n",
              "      <td>[-1.0, 1.0, -1.0, 1.0, -1.0, 1.0, 1.0, 1.0, -1...</td>\n",
              "      <td>[1, 1, 1, 1, 1, 10, 1, 1, 1, 1]</td>\n",
              "      <td>0.0</td>\n",
              "      <td>1.0</td>\n",
              "      <td>[0.5, 0.0, 0.5]</td>\n",
              "      <td>0.5</td>\n",
              "      <td>1.111111</td>\n",
              "    </tr>\n",
              "  </tbody>\n",
              "</table>\n",
              "</div>\n",
              "      <button class=\"colab-df-convert\" onclick=\"convertToInteractive('df-546227bd-352b-4054-9e7f-a7f4d0c28b62')\"\n",
              "              title=\"Convert this dataframe to an interactive table.\"\n",
              "              style=\"display:none;\">\n",
              "        \n",
              "  <svg xmlns=\"http://www.w3.org/2000/svg\" height=\"24px\"viewBox=\"0 0 24 24\"\n",
              "       width=\"24px\">\n",
              "    <path d=\"M0 0h24v24H0V0z\" fill=\"none\"/>\n",
              "    <path d=\"M18.56 5.44l.94 2.06.94-2.06 2.06-.94-2.06-.94-.94-2.06-.94 2.06-2.06.94zm-11 1L8.5 8.5l.94-2.06 2.06-.94-2.06-.94L8.5 2.5l-.94 2.06-2.06.94zm10 10l.94 2.06.94-2.06 2.06-.94-2.06-.94-.94-2.06-.94 2.06-2.06.94z\"/><path d=\"M17.41 7.96l-1.37-1.37c-.4-.4-.92-.59-1.43-.59-.52 0-1.04.2-1.43.59L10.3 9.45l-7.72 7.72c-.78.78-.78 2.05 0 2.83L4 21.41c.39.39.9.59 1.41.59.51 0 1.02-.2 1.41-.59l7.78-7.78 2.81-2.81c.8-.78.8-2.07 0-2.86zM5.41 20L4 18.59l7.72-7.72 1.47 1.35L5.41 20z\"/>\n",
              "  </svg>\n",
              "      </button>\n",
              "      \n",
              "  <style>\n",
              "    .colab-df-container {\n",
              "      display:flex;\n",
              "      flex-wrap:wrap;\n",
              "      gap: 12px;\n",
              "    }\n",
              "\n",
              "    .colab-df-convert {\n",
              "      background-color: #E8F0FE;\n",
              "      border: none;\n",
              "      border-radius: 50%;\n",
              "      cursor: pointer;\n",
              "      display: none;\n",
              "      fill: #1967D2;\n",
              "      height: 32px;\n",
              "      padding: 0 0 0 0;\n",
              "      width: 32px;\n",
              "    }\n",
              "\n",
              "    .colab-df-convert:hover {\n",
              "      background-color: #E2EBFA;\n",
              "      box-shadow: 0px 1px 2px rgba(60, 64, 67, 0.3), 0px 1px 3px 1px rgba(60, 64, 67, 0.15);\n",
              "      fill: #174EA6;\n",
              "    }\n",
              "\n",
              "    [theme=dark] .colab-df-convert {\n",
              "      background-color: #3B4455;\n",
              "      fill: #D2E3FC;\n",
              "    }\n",
              "\n",
              "    [theme=dark] .colab-df-convert:hover {\n",
              "      background-color: #434B5C;\n",
              "      box-shadow: 0px 1px 3px 1px rgba(0, 0, 0, 0.15);\n",
              "      filter: drop-shadow(0px 1px 2px rgba(0, 0, 0, 0.3));\n",
              "      fill: #FFFFFF;\n",
              "    }\n",
              "  </style>\n",
              "\n",
              "      <script>\n",
              "        const buttonEl =\n",
              "          document.querySelector('#df-546227bd-352b-4054-9e7f-a7f4d0c28b62 button.colab-df-convert');\n",
              "        buttonEl.style.display =\n",
              "          google.colab.kernel.accessAllowed ? 'block' : 'none';\n",
              "\n",
              "        async function convertToInteractive(key) {\n",
              "          const element = document.querySelector('#df-546227bd-352b-4054-9e7f-a7f4d0c28b62');\n",
              "          const dataTable =\n",
              "            await google.colab.kernel.invokeFunction('convertToInteractive',\n",
              "                                                     [key], {});\n",
              "          if (!dataTable) return;\n",
              "\n",
              "          const docLinkHtml = 'Like what you see? Visit the ' +\n",
              "            '<a target=\"_blank\" href=https://colab.research.google.com/notebooks/data_table.ipynb>data table notebook</a>'\n",
              "            + ' to learn more about interactive tables.';\n",
              "          element.innerHTML = '';\n",
              "          dataTable['output_type'] = 'display_data';\n",
              "          await google.colab.output.renderOutput(dataTable, element);\n",
              "          const docLink = document.createElement('div');\n",
              "          docLink.innerHTML = docLinkHtml;\n",
              "          element.appendChild(docLink);\n",
              "        }\n",
              "      </script>\n",
              "    </div>\n",
              "  </div>\n",
              "  "
            ]
          },
          "metadata": {},
          "execution_count": 13
        }
      ],
      "source": [
        "c2_high_dfu.sort_values(by=\"cross_country_diff\", ascending=False).head(5)"
      ]
    },
    {
      "cell_type": "markdown",
      "source": [
        "#### Compute the number of distinct countries in high/low DFU posts"
      ],
      "metadata": {
        "id": "nsal1TjvuqM5"
      }
    },
    {
      "cell_type": "markdown",
      "source": [
        "* Comparing the number of countries (of the annotators) in posts with high compared to low DFU.\n",
        "* Repeating the measurement (1,000 times) on samples yields a st. significant result ($P<0.05$). \n",
        "* The same finding stands for larger samples, drawn from the whole dataset."
      ],
      "metadata": {
        "id": "Ln2gslXpuZMl"
      }
    },
    {
      "cell_type": "code",
      "source": [
        "low, high = train.DFU.quantile(0.25), train.DFU.quantile(0.75)\n",
        "trials = []\n",
        "for i in range(1000):\n",
        "  high_sample_cnum = train[train.DFU>high].sample(20).country.apply(set).apply(len).mean()\n",
        "  low_sample_cnum = train[train.DFU<=low].sample(20).country.apply(set).apply(len).mean()\n",
        "  trials.append(low_sample_cnum>high_sample_cnum)\n",
        "print(f\"P-value of {np.mean(trials)}\")"
      ],
      "metadata": {
        "colab": {
          "base_uri": "https://localhost:8080/"
        },
        "id": "HpsIm9zCuRVI",
        "outputId": "31cc4963-3edf-4f29-e374-96e11cc30236"
      },
      "execution_count": 14,
      "outputs": [
        {
          "output_type": "stream",
          "name": "stdout",
          "text": [
            "P-value of 0.004\n"
          ]
        }
      ]
    },
    {
      "cell_type": "markdown",
      "metadata": {
        "id": "w8QEhXwhSnqQ"
      },
      "source": [
        "## Learning"
      ]
    },
    {
      "cell_type": "markdown",
      "metadata": {
        "id": "-0-CMuzdmvAL"
      },
      "source": [
        "### BERT\n",
        "Training a BERT model on posts from a time window, then predicting DFU on ones posted later. "
      ]
    },
    {
      "cell_type": "code",
      "execution_count": null,
      "metadata": {
        "colab": {
          "base_uri": "https://localhost:8080/",
          "height": 280
        },
        "id": "fkj4REx9StLk",
        "outputId": "dc37ea32-1cac-4ffb-ebba-b3bc9212a42f"
      },
      "outputs": [
        {
          "output_type": "stream",
          "name": "stdout",
          "text": [
            "preprocessing train...\n",
            "language: en\n",
            "train sequence lengths:\n",
            "\tmean : 53\n",
            "\t95percentile : 161\n",
            "\t99percentile : 179\n"
          ]
        },
        {
          "output_type": "stream",
          "name": "stderr",
          "text": [
            "/usr/local/lib/python3.7/dist-packages/ktrain/utils.py:723: UserWarning: Task is being treated as REGRESSION because either class_names argument was not supplied or is_regression=True. If this is incorrect, change accordingly.\n",
            "  + \"If this is incorrect, change accordingly.\"\n"
          ]
        },
        {
          "output_type": "display_data",
          "data": {
            "text/plain": [
              "<IPython.core.display.HTML object>"
            ],
            "text/html": [
              "\n",
              "<style>\n",
              "    /* Turns off some styling */\n",
              "    progress {\n",
              "        /* gets rid of default border in Firefox and Opera. */\n",
              "        border: none;\n",
              "        /* Needs to be in here for Safari polyfill so background images work as expected. */\n",
              "        background-size: auto;\n",
              "    }\n",
              "    progress:not([value]), progress:not([value])::-webkit-progress-bar {\n",
              "        background: repeating-linear-gradient(45deg, #7e7e7e, #7e7e7e 10px, #5c5c5c 10px, #5c5c5c 20px);\n",
              "    }\n",
              "    .progress-bar-interrupted, .progress-bar-interrupted::-webkit-progress-bar {\n",
              "        background: #F44336;\n",
              "    }\n",
              "</style>\n"
            ]
          },
          "metadata": {}
        },
        {
          "output_type": "display_data",
          "data": {
            "text/plain": [
              "<IPython.core.display.HTML object>"
            ],
            "text/html": []
          },
          "metadata": {}
        },
        {
          "output_type": "stream",
          "name": "stdout",
          "text": [
            "preprocessing test...\n",
            "language: en\n",
            "test sequence lengths:\n",
            "\tmean : 56\n",
            "\t95percentile : 162\n",
            "\t99percentile : 179\n"
          ]
        },
        {
          "output_type": "display_data",
          "data": {
            "text/plain": [
              "<IPython.core.display.HTML object>"
            ],
            "text/html": [
              "\n",
              "<style>\n",
              "    /* Turns off some styling */\n",
              "    progress {\n",
              "        /* gets rid of default border in Firefox and Opera. */\n",
              "        border: none;\n",
              "        /* Needs to be in here for Safari polyfill so background images work as expected. */\n",
              "        background-size: auto;\n",
              "    }\n",
              "    progress:not([value]), progress:not([value])::-webkit-progress-bar {\n",
              "        background: repeating-linear-gradient(45deg, #7e7e7e, #7e7e7e 10px, #5c5c5c 10px, #5c5c5c 20px);\n",
              "    }\n",
              "    .progress-bar-interrupted, .progress-bar-interrupted::-webkit-progress-bar {\n",
              "        background: #F44336;\n",
              "    }\n",
              "</style>\n"
            ]
          },
          "metadata": {}
        },
        {
          "output_type": "display_data",
          "data": {
            "text/plain": [
              "<IPython.core.display.HTML object>"
            ],
            "text/html": []
          },
          "metadata": {}
        }
      ],
      "source": [
        "MODEL_NAME = 'bert-base-uncased'\n",
        "t = text.Transformer(MODEL_NAME, maxlen=128)\n",
        "trn = t.preprocess_train(train.text.values, train.DFU.values)\n",
        "val = t.preprocess_test(dev.text.values, dev.DFU.values)\n",
        "model = t.get_regression_model()\n",
        "learner = ktrain.get_learner(model, train_data=trn, val_data=val, batch_size=32)"
      ]
    },
    {
      "cell_type": "code",
      "source": [
        "learner.lr_find()\n",
        "learner.lr_plot()"
      ],
      "metadata": {
        "colab": {
          "base_uri": "https://localhost:8080/",
          "height": 529
        },
        "id": "D6KwaBy_DmoO",
        "outputId": "42929ec8-2caf-49e0-a140-664b34ab785c"
      },
      "execution_count": null,
      "outputs": [
        {
          "output_type": "stream",
          "name": "stdout",
          "text": [
            "simulating training for different learning rates... this may take a few moments...\n",
            "Epoch 1/1024\n",
            "312/312 [==============================] - 262s 779ms/step - loss: 0.0464 - mae: 0.1776\n",
            "Epoch 2/1024\n",
            "312/312 [==============================] - 245s 785ms/step - loss: 0.0214 - mae: 0.1135\n",
            "Epoch 3/1024\n",
            "312/312 [==============================] - 245s 784ms/step - loss: 0.0179 - mae: 0.1018\n",
            "Epoch 4/1024\n",
            "312/312 [==============================] - 200s 642ms/step - loss: 1.9952 - mae: 0.2476\n",
            "\n",
            "\n",
            "done.\n",
            "Please invoke the Learner.lr_plot() method to visually inspect the loss plot to help identify the maximal learning rate associated with falling loss.\n"
          ]
        },
        {
          "output_type": "display_data",
          "data": {
            "text/plain": [
              "<Figure size 432x288 with 1 Axes>"
            ],
            "image/png": "[encoded data removed]"
          },
          "metadata": {
            "needs_background": "light"
          }
        }
      ]
    },
    {
      "cell_type": "code",
      "source": [
        "learner.autofit(1e-4)\n",
        "bert_dfu_model = ktrain.get_predictor(learner.model, t)"
      ],
      "metadata": {
        "colab": {
          "base_uri": "https://localhost:8080/"
        },
        "id": "GXSfScbBDlVD",
        "outputId": "272f7790-a261-46ed-be9a-eb0ad39aa4c0"
      },
      "execution_count": null,
      "outputs": [
        {
          "output_type": "stream",
          "name": "stdout",
          "text": [
            "early_stopping automatically enabled at patience=5\n",
            "reduce_on_plateau automatically enabled at patience=2\n",
            "\n",
            "\n",
            "begin training using triangular learning rate policy with max lr of 0.0001...\n",
            "Epoch 1/1024\n",
            "313/313 [==============================] - 349s 1s/step - loss: 0.0183 - mae: 0.1022 - val_loss: 0.0126 - val_mae: 0.0794\n",
            "Epoch 2/1024\n",
            "313/313 [==============================] - 329s 1s/step - loss: 0.0140 - mae: 0.0871 - val_loss: 0.0128 - val_mae: 0.0778\n",
            "Epoch 3/1024\n",
            "313/313 [==============================] - ETA: 0s - loss: 0.0120 - mae: 0.0784\n",
            "Epoch 00003: Reducing Max LR on Plateau: new max lr will be 5e-05 (if not early_stopping).\n",
            "313/313 [==============================] - 330s 1s/step - loss: 0.0120 - mae: 0.0784 - val_loss: 0.0136 - val_mae: 0.0791\n",
            "Epoch 4/1024\n",
            "313/313 [==============================] - 330s 1s/step - loss: 0.0074 - mae: 0.0592 - val_loss: 0.0152 - val_mae: 0.0796\n",
            "Epoch 5/1024\n",
            "313/313 [==============================] - ETA: 0s - loss: 0.0045 - mae: 0.0459\n",
            "Epoch 00005: Reducing Max LR on Plateau: new max lr will be 2.5e-05 (if not early_stopping).\n",
            "313/313 [==============================] - 330s 1s/step - loss: 0.0045 - mae: 0.0459 - val_loss: 0.0160 - val_mae: 0.0793\n",
            "Epoch 6/1024\n",
            "313/313 [==============================] - ETA: 0s - loss: 0.0028 - mae: 0.0365Restoring model weights from the end of the best epoch: 1.\n",
            "313/313 [==============================] - 329s 1s/step - loss: 0.0028 - mae: 0.0365 - val_loss: 0.0158 - val_mae: 0.0810\n",
            "Epoch 6: early stopping\n",
            "Weights from best epoch have been loaded into model.\n"
          ]
        }
      ]
    },
    {
      "cell_type": "code",
      "execution_count": null,
      "metadata": {
        "id": "AygQa18RSv6y"
      },
      "outputs": [],
      "source": [
        "bert_dfu_model.save(\"bert_dfu.mdl\")"
      ]
    },
    {
      "cell_type": "code",
      "execution_count": null,
      "metadata": {
        "colab": {
          "base_uri": "https://localhost:8080/"
        },
        "id": "oM1M-kKV0mDO",
        "outputId": "1c954e46-7bb4-446c-8a3c-4c42b696960e"
      },
      "outputs": [
        {
          "output_type": "stream",
          "name": "stdout",
          "text": [
            "313/313 [==============================] - 87s 270ms/step\n",
            "BERT_DFU: 0.0853\n"
          ]
        }
      ],
      "source": [
        "preds = bert_dfu_model.predict(test.text.values)\n",
        "print(f\"BERT_DFU: {mean_absolute_error(test.DFU.values, preds):.4f}\")"
      ]
    },
    {
      "cell_type": "code",
      "execution_count": null,
      "metadata": {
        "colab": {
          "base_uri": "https://localhost:8080/",
          "height": 265
        },
        "id": "3_lThYPO0r-U",
        "outputId": "2881037d-05b7-46c0-8595-64b934e508eb"
      },
      "outputs": [
        {
          "output_type": "display_data",
          "data": {
            "text/plain": [
              "<Figure size 432x288 with 1 Axes>"
            ],
            "image/png": "[encoded data removed]"
          },
          "metadata": {
            "needs_background": "light"
          }
        }
      ],
      "source": [
        "pd.DataFrame({\"gold\":test.DFU.values, \"predicted\":preds}).rolling(10).mean().plot(alpha=0.5);"
      ]
    },
    {
      "cell_type": "code",
      "source": [
        "gpu_info = !nvidia-smi\n",
        "gpu_info = '\\n'.join(gpu_info)\n",
        "if gpu_info.find('failed') >= 0:\n",
        "  print('Not connected to a GPU')\n",
        "else:\n",
        "  print(gpu_info)"
      ],
      "metadata": {
        "colab": {
          "base_uri": "https://localhost:8080/"
        },
        "id": "Rs7-_PPzc-7Q",
        "outputId": "99c1fa3b-b906-422c-94f9-c4ea45f1cd1d"
      },
      "execution_count": null,
      "outputs": [
        {
          "output_type": "stream",
          "name": "stdout",
          "text": [
            "Fri Nov  4 16:23:47 2022       \n",
            "+-----------------------------------------------------------------------------+\n",
            "| NVIDIA-SMI 460.32.03    Driver Version: 460.32.03    CUDA Version: 11.2     |\n",
            "|-------------------------------+----------------------+----------------------+\n",
            "| GPU  Name        Persistence-M| Bus-Id        Disp.A | Volatile Uncorr. ECC |\n",
            "| Fan  Temp  Perf  Pwr:Usage/Cap|         Memory-Usage | GPU-Util  Compute M. |\n",
            "|                               |                      |               MIG M. |\n",
            "|===============================+======================+======================|\n",
            "|   0  Tesla T4            Off  | 00000000:00:04.0 Off |                  N/A |\n",
            "| N/A   75C    P0    31W /  70W |   8672MiB / 15109MiB |      0%      Default |\n",
            "|                               |                      |                  N/A |\n",
            "+-------------------------------+----------------------+----------------------+\n",
            "                                                                               \n",
            "+-----------------------------------------------------------------------------+\n",
            "| Processes:                                                                  |\n",
            "|  GPU   GI   CI        PID   Type   Process name                  GPU Memory |\n",
            "|        ID   ID                                                   Usage      |\n",
            "|=============================================================================|\n",
            "+-----------------------------------------------------------------------------+\n"
          ]
        }
      ]
    },
    {
      "cell_type": "markdown",
      "source": [
        "### Using variance as learning objective\n"
      ],
      "metadata": {
        "id": "sUpOGUflvaf8"
      }
    },
    {
      "cell_type": "code",
      "source": [
        "MODEL_NAME = 'bert-base-uncased'\n",
        "t = text.Transformer(MODEL_NAME, maxlen=128)\n",
        "trn = t.preprocess_train(train.text.values, train.STD.values)\n",
        "val = t.preprocess_test(dev.text.values, dev.STD.values)\n",
        "model = t.get_regression_model()\n",
        "learner = ktrain.get_learner(model, train_data=trn, val_data=val, batch_size=32)"
      ],
      "metadata": {
        "colab": {
          "base_uri": "https://localhost:8080/",
          "height": 280
        },
        "id": "8g9L_aj7vxVT",
        "outputId": "169ca980-5e8e-4879-9a64-b85e0845ccee"
      },
      "execution_count": null,
      "outputs": [
        {
          "output_type": "stream",
          "name": "stdout",
          "text": [
            "preprocessing train...\n",
            "language: en\n",
            "train sequence lengths:\n",
            "\tmean : 53\n",
            "\t95percentile : 161\n",
            "\t99percentile : 179\n"
          ]
        },
        {
          "output_type": "stream",
          "name": "stderr",
          "text": [
            "/usr/local/lib/python3.7/dist-packages/ktrain/utils.py:723: UserWarning: Task is being treated as REGRESSION because either class_names argument was not supplied or is_regression=True. If this is incorrect, change accordingly.\n",
            "  + \"If this is incorrect, change accordingly.\"\n"
          ]
        },
        {
          "output_type": "display_data",
          "data": {
            "text/plain": [
              "<IPython.core.display.HTML object>"
            ],
            "text/html": [
              "\n",
              "<style>\n",
              "    /* Turns off some styling */\n",
              "    progress {\n",
              "        /* gets rid of default border in Firefox and Opera. */\n",
              "        border: none;\n",
              "        /* Needs to be in here for Safari polyfill so background images work as expected. */\n",
              "        background-size: auto;\n",
              "    }\n",
              "    progress:not([value]), progress:not([value])::-webkit-progress-bar {\n",
              "        background: repeating-linear-gradient(45deg, #7e7e7e, #7e7e7e 10px, #5c5c5c 10px, #5c5c5c 20px);\n",
              "    }\n",
              "    .progress-bar-interrupted, .progress-bar-interrupted::-webkit-progress-bar {\n",
              "        background: #F44336;\n",
              "    }\n",
              "</style>\n"
            ]
          },
          "metadata": {}
        },
        {
          "output_type": "display_data",
          "data": {
            "text/plain": [
              "<IPython.core.display.HTML object>"
            ],
            "text/html": []
          },
          "metadata": {}
        },
        {
          "output_type": "stream",
          "name": "stdout",
          "text": [
            "preprocessing test...\n",
            "language: en\n",
            "test sequence lengths:\n",
            "\tmean : 56\n",
            "\t95percentile : 162\n",
            "\t99percentile : 179\n"
          ]
        },
        {
          "output_type": "display_data",
          "data": {
            "text/plain": [
              "<IPython.core.display.HTML object>"
            ],
            "text/html": [
              "\n",
              "<style>\n",
              "    /* Turns off some styling */\n",
              "    progress {\n",
              "        /* gets rid of default border in Firefox and Opera. */\n",
              "        border: none;\n",
              "        /* Needs to be in here for Safari polyfill so background images work as expected. */\n",
              "        background-size: auto;\n",
              "    }\n",
              "    progress:not([value]), progress:not([value])::-webkit-progress-bar {\n",
              "        background: repeating-linear-gradient(45deg, #7e7e7e, #7e7e7e 10px, #5c5c5c 10px, #5c5c5c 20px);\n",
              "    }\n",
              "    .progress-bar-interrupted, .progress-bar-interrupted::-webkit-progress-bar {\n",
              "        background: #F44336;\n",
              "    }\n",
              "</style>\n"
            ]
          },
          "metadata": {}
        },
        {
          "output_type": "display_data",
          "data": {
            "text/plain": [
              "<IPython.core.display.HTML object>"
            ],
            "text/html": []
          },
          "metadata": {}
        }
      ]
    },
    {
      "cell_type": "code",
      "source": [
        "learner.lr_find()\n",
        "learner.lr_plot()"
      ],
      "metadata": {
        "colab": {
          "base_uri": "https://localhost:8080/",
          "height": 530
        },
        "id": "7KtUy1KOv8Tp",
        "outputId": "27b24a88-6bfa-42d2-ecec-ada7adfc138f"
      },
      "execution_count": null,
      "outputs": [
        {
          "output_type": "stream",
          "name": "stdout",
          "text": [
            "simulating training for different learning rates... this may take a few moments...\n",
            "Epoch 1/1024\n",
            "312/312 [==============================] - 262s 778ms/step - loss: 0.2050 - mae: 0.3852\n",
            "Epoch 2/1024\n",
            "312/312 [==============================] - 244s 784ms/step - loss: 0.1387 - mae: 0.3065\n",
            "Epoch 3/1024\n",
            "312/312 [==============================] - 244s 782ms/step - loss: 0.1588 - mae: 0.3140\n",
            "Epoch 4/1024\n",
            "312/312 [==============================] - 221s 709ms/step - loss: 0.8405 - mae: 0.6566\n",
            "\n",
            "\n",
            "done.\n",
            "Please invoke the Learner.lr_plot() method to visually inspect the loss plot to help identify the maximal learning rate associated with falling loss.\n"
          ]
        },
        {
          "output_type": "display_data",
          "data": {
            "text/plain": [
              "<Figure size 432x288 with 1 Axes>"
            ],
            "image/png": "[encoded data removed]"
          },
          "metadata": {
            "needs_background": "light"
          }
        }
      ]
    },
    {
      "cell_type": "code",
      "source": [
        "learner.autofit(5e-5)\n",
        "bert_std_model = ktrain.get_predictor(learner.model, t)"
      ],
      "metadata": {
        "colab": {
          "base_uri": "https://localhost:8080/"
        },
        "id": "Veut2sFPv_6S",
        "outputId": "6b53fff1-2254-4aac-d5e8-85225edfb604"
      },
      "execution_count": null,
      "outputs": [
        {
          "output_type": "stream",
          "name": "stdout",
          "text": [
            "early_stopping automatically enabled at patience=5\n",
            "reduce_on_plateau automatically enabled at patience=2\n",
            "\n",
            "\n",
            "begin training using triangular learning rate policy with max lr of 5e-05...\n",
            "Epoch 1/1024\n",
            "313/313 [==============================] - 349s 1s/step - loss: 0.1296 - mae: 0.2891 - val_loss: 0.0978 - val_mae: 0.2243\n",
            "Epoch 2/1024\n",
            "313/313 [==============================] - 329s 1s/step - loss: 0.0903 - mae: 0.2170 - val_loss: 0.1066 - val_mae: 0.2361\n",
            "Epoch 3/1024\n",
            "313/313 [==============================] - ETA: 0s - loss: 0.0674 - mae: 0.1753\n",
            "Epoch 00003: Reducing Max LR on Plateau: new max lr will be 2.5e-05 (if not early_stopping).\n",
            "313/313 [==============================] - 329s 1s/step - loss: 0.0674 - mae: 0.1753 - val_loss: 0.1066 - val_mae: 0.2108\n",
            "Epoch 4/1024\n",
            "313/313 [==============================] - 329s 1s/step - loss: 0.0424 - mae: 0.1286 - val_loss: 0.1099 - val_mae: 0.2059\n",
            "Epoch 5/1024\n",
            "313/313 [==============================] - ETA: 0s - loss: 0.0309 - mae: 0.1075\n",
            "Epoch 00005: Reducing Max LR on Plateau: new max lr will be 1.25e-05 (if not early_stopping).\n",
            "313/313 [==============================] - 329s 1s/step - loss: 0.0309 - mae: 0.1075 - val_loss: 0.1164 - val_mae: 0.2139\n",
            "Epoch 6/1024\n",
            "313/313 [==============================] - ETA: 0s - loss: 0.0215 - mae: 0.0898Restoring model weights from the end of the best epoch: 1.\n",
            "313/313 [==============================] - 329s 1s/step - loss: 0.0215 - mae: 0.0898 - val_loss: 0.1197 - val_mae: 0.2131\n",
            "Epoch 6: early stopping\n",
            "Weights from best epoch have been loaded into model.\n"
          ]
        }
      ]
    },
    {
      "cell_type": "code",
      "source": [
        "preds = bert_std_model.predict(test.text.values)\n",
        "print(f\"BERT_STD: {mean_absolute_error(test.STD.values, preds):.4f}\")"
      ],
      "metadata": {
        "colab": {
          "base_uri": "https://localhost:8080/"
        },
        "id": "swWtCyLm843T",
        "outputId": "08334302-5416-413e-8c4e-6c5aceb20025"
      },
      "execution_count": null,
      "outputs": [
        {
          "output_type": "stream",
          "name": "stdout",
          "text": [
            "313/313 [==============================] - 89s 271ms/step\n",
            "BERT_STD: 0.2332\n"
          ]
        }
      ]
    },
    {
      "cell_type": "markdown",
      "metadata": {
        "id": "RNBrtbdBxHkh"
      },
      "source": [
        "### ML baselines"
      ]
    },
    {
      "cell_type": "code",
      "source": [
        "text.print_text_regression_models()"
      ],
      "metadata": {
        "colab": {
          "base_uri": "https://localhost:8080/"
        },
        "id": "edag0lJ4OIhk",
        "outputId": "5b393a0f-6eb1-412b-beb7-f6c492ebf090"
      },
      "execution_count": null,
      "outputs": [
        {
          "output_type": "stream",
          "name": "stdout",
          "text": [
            "fasttext: a fastText-like model [http://arxiv.org/pdf/1607.01759.pdf]\n",
            "linreg: linear text regression using a trainable Embedding layer\n",
            "bigru: Bidirectional GRU with pretrained English word vectors [https://arxiv.org/abs/1712.09405]\n",
            "standard_gru: simple 2-layer GRU with randomly initialized embeddings\n",
            "bert: Bidirectional Encoder Representations from Transformers (BERT) - keras_bert implementation [https://arxiv.org/abs/1810.04805]\n",
            "distilbert: distilled, smaller, and faster BERT from Hugging Face transformers [https://arxiv.org/abs/1910.01108]\n"
          ]
        }
      ]
    },
    {
      "cell_type": "code",
      "execution_count": null,
      "metadata": {
        "id": "uNTZ8zp63UDQ",
        "colab": {
          "base_uri": "https://localhost:8080/"
        },
        "outputId": "51d568f6-7c91-4a8b-f0f5-53b24a99bfae"
      },
      "outputs": [
        {
          "output_type": "stream",
          "name": "stdout",
          "text": [
            "language: en\n",
            "Word Counts: 28308\n",
            "Nrows: 10000\n",
            "10000 train sequences\n",
            "train sequence lengths:\n",
            "\tmean : 53\n",
            "\t95percentile : 160\n",
            "\t99percentile : 179\n",
            "x_train shape: (10000,128)\n",
            "y_train shape: (10000,)\n"
          ]
        },
        {
          "output_type": "stream",
          "name": "stderr",
          "text": [
            "/usr/local/lib/python3.7/dist-packages/ktrain/utils.py:723: UserWarning: Task is being treated as REGRESSION because either class_names argument was not supplied or is_regression=True. If this is incorrect, change accordingly.\n",
            "  + \"If this is incorrect, change accordingly.\"\n"
          ]
        },
        {
          "output_type": "stream",
          "name": "stdout",
          "text": [
            "10000 test sequences\n",
            "test sequence lengths:\n",
            "\tmean : 55\n",
            "\t95percentile : 159\n",
            "\t99percentile : 175\n",
            "x_test shape: (10000,128)\n",
            "y_test shape: (10000,)\n",
            "task: text regression (supply class_names argument if this is supposed to be classification task)\n"
          ]
        }
      ],
      "source": [
        "trn, val, preproc = text.texts_from_array(x_train=train.text.values, y_train=train.DFU.values,\n",
        "                                          x_test=dev.text.values, y_test=dev.DFU.values,\n",
        "                                          maxlen=128)"
      ]
    },
    {
      "cell_type": "markdown",
      "source": [
        "#### Bidirectional GRU"
      ],
      "metadata": {
        "id": "SEdS_0FdeFu6"
      }
    },
    {
      "cell_type": "code",
      "source": [
        "MODEL_NAME = \"bigru\"\n",
        "b1 = text.text_regression_model(MODEL_NAME, train_data=trn, preproc=preproc)\n",
        "b1_learner = ktrain.get_learner(b1, train_data=trn, val_data=val, batch_size=32)"
      ],
      "metadata": {
        "colab": {
          "base_uri": "https://localhost:8080/",
          "height": 104
        },
        "id": "WmHBZUHuOWoF",
        "outputId": "4a631bdf-9dd5-4cfc-f811-f7b8804b9c8c"
      },
      "execution_count": null,
      "outputs": [
        {
          "output_type": "stream",
          "name": "stdout",
          "text": [
            "maxlen is 128\n",
            "word vectors will be loaded from: https://dl.fbaipublicfiles.com/fasttext/vectors-crawl/cc.en.300.vec.gz\n",
            "processing pretrained word vectors...\n",
            "loading pretrained word vectors...this may take a few moments...\n"
          ]
        },
        {
          "output_type": "display_data",
          "data": {
            "text/plain": [
              "<IPython.core.display.HTML object>"
            ],
            "text/html": [
              "\n",
              "<style>\n",
              "    /* Turns off some styling */\n",
              "    progress {\n",
              "        /* gets rid of default border in Firefox and Opera. */\n",
              "        border: none;\n",
              "        /* Needs to be in here for Safari polyfill so background images work as expected. */\n",
              "        background-size: auto;\n",
              "    }\n",
              "    progress:not([value]), progress:not([value])::-webkit-progress-bar {\n",
              "        background: repeating-linear-gradient(45deg, #7e7e7e, #7e7e7e 10px, #5c5c5c 10px, #5c5c5c 20px);\n",
              "    }\n",
              "    .progress-bar-interrupted, .progress-bar-interrupted::-webkit-progress-bar {\n",
              "        background: #F44336;\n",
              "    }\n",
              "</style>\n"
            ]
          },
          "metadata": {}
        },
        {
          "output_type": "display_data",
          "data": {
            "text/plain": [
              "<IPython.core.display.HTML object>"
            ],
            "text/html": []
          },
          "metadata": {}
        },
        {
          "output_type": "stream",
          "name": "stdout",
          "text": [
            "done.\n"
          ]
        }
      ]
    },
    {
      "cell_type": "code",
      "source": [
        "b1_learner.lr_find()\n",
        "b1_learner.lr_plot()"
      ],
      "metadata": {
        "colab": {
          "base_uri": "https://localhost:8080/",
          "height": 563
        },
        "id": "PVcQ4Tp7ceEK",
        "outputId": "a75ae09f-4159-4347-f26c-834b3474700d"
      },
      "execution_count": null,
      "outputs": [
        {
          "output_type": "stream",
          "name": "stdout",
          "text": [
            "simulating training for different learning rates... this may take a few moments...\n",
            "Epoch 1/1024\n",
            "313/313 [==============================] - 11s 16ms/step - loss: 0.0247 - mae: 0.1336\n",
            "Epoch 2/1024\n",
            "313/313 [==============================] - 5s 16ms/step - loss: 0.0212 - mae: 0.1143\n",
            "Epoch 3/1024\n",
            "313/313 [==============================] - 5s 16ms/step - loss: 0.0184 - mae: 0.1046\n",
            "Epoch 4/1024\n",
            "313/313 [==============================] - 5s 16ms/step - loss: 0.0181 - mae: 0.1025\n",
            "Epoch 5/1024\n",
            "313/313 [==============================] - 0s 919us/step - loss: 2.2439 - mae: 0.5635\n",
            "\n",
            "\n",
            "done.\n",
            "Please invoke the Learner.lr_plot() method to visually inspect the loss plot to help identify the maximal learning rate associated with falling loss.\n"
          ]
        },
        {
          "output_type": "display_data",
          "data": {
            "text/plain": [
              "<Figure size 432x288 with 1 Axes>"
            ],
            "image/png": "[encoded data removed]"
          },
          "metadata": {
            "needs_background": "light"
          }
        }
      ]
    },
    {
      "cell_type": "code",
      "source": [
        "b1_learner.autofit(1e-3)"
      ],
      "metadata": {
        "colab": {
          "base_uri": "https://localhost:8080/"
        },
        "id": "AG2Wwz_ScdFU",
        "outputId": "fee106bc-13d7-43e6-d2c8-fe147f121046"
      },
      "execution_count": null,
      "outputs": [
        {
          "output_type": "stream",
          "name": "stdout",
          "text": [
            "early_stopping automatically enabled at patience=5\n",
            "reduce_on_plateau automatically enabled at patience=2\n",
            "\n",
            "\n",
            "begin training using triangular learning rate policy with max lr of 0.001...\n",
            "Epoch 1/1024\n",
            "313/313 [==============================] - 10s 23ms/step - loss: 0.0191 - mae: 0.1055 - val_loss: 0.0148 - val_mae: 0.0894\n",
            "Epoch 2/1024\n",
            "313/313 [==============================] - 7s 21ms/step - loss: 0.0136 - mae: 0.0872 - val_loss: 0.0146 - val_mae: 0.0894\n",
            "Epoch 3/1024\n",
            "313/313 [==============================] - 7s 21ms/step - loss: 0.0100 - mae: 0.0741 - val_loss: 0.0153 - val_mae: 0.0951\n",
            "Epoch 4/1024\n",
            "313/313 [==============================] - ETA: 0s - loss: 0.0073 - mae: 0.0636\n",
            "Epoch 00004: Reducing Max LR on Plateau: new max lr will be 0.0005 (if not early_stopping).\n",
            "313/313 [==============================] - 7s 21ms/step - loss: 0.0073 - mae: 0.0636 - val_loss: 0.0159 - val_mae: 0.0977\n",
            "Epoch 5/1024\n",
            "313/313 [==============================] - 7s 21ms/step - loss: 0.0048 - mae: 0.0515 - val_loss: 0.0158 - val_mae: 0.0954\n",
            "Epoch 6/1024\n",
            "312/313 [============================>.] - ETA: 0s - loss: 0.0036 - mae: 0.0446\n",
            "Epoch 00006: Reducing Max LR on Plateau: new max lr will be 0.00025 (if not early_stopping).\n",
            "313/313 [==============================] - 7s 21ms/step - loss: 0.0036 - mae: 0.0446 - val_loss: 0.0160 - val_mae: 0.0958\n",
            "Epoch 7/1024\n",
            "312/313 [============================>.] - ETA: 0s - loss: 0.0027 - mae: 0.0386Restoring model weights from the end of the best epoch: 2.\n",
            "313/313 [==============================] - 7s 21ms/step - loss: 0.0027 - mae: 0.0386 - val_loss: 0.0161 - val_mae: 0.0950\n",
            "Epoch 7: early stopping\n",
            "Weights from best epoch have been loaded into model.\n"
          ]
        },
        {
          "output_type": "execute_result",
          "data": {
            "text/plain": [
              "<keras.callbacks.History at 0x7fc678325a50>"
            ]
          },
          "metadata": {},
          "execution_count": 44
        }
      ]
    },
    {
      "cell_type": "code",
      "source": [
        "from sklearn.metrics import *\n",
        "b1_predictor = ktrain.get_predictor(b1_learner.model, preproc)\n",
        "preds = b1_predictor.predict(test.text.values)\n",
        "print(f\"BiGRU_DFU: {mean_absolute_error(test.DFU.values, preds):.4f}\")"
      ],
      "metadata": {
        "colab": {
          "base_uri": "https://localhost:8080/"
        },
        "id": "JhXUSl9jUIOf",
        "outputId": "1aac0344-0d2f-4911-b507-ffcfc3298526"
      },
      "execution_count": null,
      "outputs": [
        {
          "output_type": "stream",
          "name": "stdout",
          "text": [
            "313/313 [==============================] - 2s 5ms/step\n",
            "BiGRU_DFU: 0.0955\n"
          ]
        }
      ]
    },
    {
      "cell_type": "markdown",
      "source": [
        "#### Linear Regression with trainable embeddings"
      ],
      "metadata": {
        "id": "oCApuIl9GCXd"
      }
    },
    {
      "cell_type": "code",
      "source": [
        "MODEL_NAME = \"linreg\"\n",
        "b2 = text.text_regression_model(MODEL_NAME, train_data=trn, preproc=preproc)\n",
        "b2_learner = ktrain.get_learner(b2, train_data=trn, val_data=val, batch_size=32)"
      ],
      "metadata": {
        "colab": {
          "base_uri": "https://localhost:8080/"
        },
        "id": "fLdbySpxGFT1",
        "outputId": "9c169d04-0ff9-489f-95e7-c38c7bdd657a"
      },
      "execution_count": null,
      "outputs": [
        {
          "output_type": "stream",
          "name": "stdout",
          "text": [
            "maxlen is 128\n",
            "done.\n"
          ]
        }
      ]
    },
    {
      "cell_type": "code",
      "source": [
        "b2_learner.lr_find()\n",
        "b2_learner.lr_plot()"
      ],
      "metadata": {
        "colab": {
          "base_uri": "https://localhost:8080/",
          "height": 529
        },
        "id": "i2vfB9nedqwk",
        "outputId": "394eb0ba-6826-4ea5-94d4-88ba9e778100"
      },
      "execution_count": null,
      "outputs": [
        {
          "output_type": "stream",
          "name": "stdout",
          "text": [
            "simulating training for different learning rates... this may take a few moments...\n",
            "Epoch 1/1024\n",
            "313/313 [==============================] - 1s 3ms/step - loss: 0.0267 - mae: 0.1151\n",
            "Epoch 2/1024\n",
            "313/313 [==============================] - 1s 3ms/step - loss: 0.0263 - mae: 0.1143\n",
            "Epoch 3/1024\n",
            "313/313 [==============================] - 1s 3ms/step - loss: 0.0223 - mae: 0.1045\n",
            "Epoch 4/1024\n",
            "313/313 [==============================] - 1s 3ms/step - loss: 0.1562 - mae: 0.2140\n",
            "\n",
            "\n",
            "done.\n",
            "Please invoke the Learner.lr_plot() method to visually inspect the loss plot to help identify the maximal learning rate associated with falling loss.\n"
          ]
        },
        {
          "output_type": "display_data",
          "data": {
            "text/plain": [
              "<Figure size 432x288 with 1 Axes>"
            ],
            "image/png": "[encoded data removed]"
          },
          "metadata": {
            "needs_background": "light"
          }
        }
      ]
    },
    {
      "cell_type": "code",
      "source": [
        "b2_learner.autofit(1e-3)"
      ],
      "metadata": {
        "colab": {
          "base_uri": "https://localhost:8080/"
        },
        "id": "f5Gce7HgdsCr",
        "outputId": "3752d446-f952-4aed-ddd2-2bd9d345f645"
      },
      "execution_count": null,
      "outputs": [
        {
          "output_type": "stream",
          "name": "stdout",
          "text": [
            "early_stopping automatically enabled at patience=5\n",
            "reduce_on_plateau automatically enabled at patience=2\n",
            "\n",
            "\n",
            "begin training using triangular learning rate policy with max lr of 0.001...\n",
            "Epoch 1/1024\n",
            "313/313 [==============================] - 2s 6ms/step - loss: 0.0226 - mae: 0.1057 - val_loss: 0.0194 - val_mae: 0.0987\n",
            "Epoch 2/1024\n",
            "313/313 [==============================] - 2s 6ms/step - loss: 0.0148 - mae: 0.0845 - val_loss: 0.0196 - val_mae: 0.0987\n",
            "Epoch 3/1024\n",
            "303/313 [============================>.] - ETA: 0s - loss: 0.0116 - mae: 0.0734\n",
            "Epoch 00003: Reducing Max LR on Plateau: new max lr will be 0.0005 (if not early_stopping).\n",
            "313/313 [==============================] - 2s 7ms/step - loss: 0.0117 - mae: 0.0737 - val_loss: 0.0206 - val_mae: 0.1025\n",
            "Epoch 4/1024\n",
            "313/313 [==============================] - 2s 6ms/step - loss: 0.0094 - mae: 0.0644 - val_loss: 0.0208 - val_mae: 0.1036\n",
            "Epoch 5/1024\n",
            "302/313 [===========================>..] - ETA: 0s - loss: 0.0079 - mae: 0.0575\n",
            "Epoch 00005: Reducing Max LR on Plateau: new max lr will be 0.00025 (if not early_stopping).\n",
            "313/313 [==============================] - 2s 5ms/step - loss: 0.0079 - mae: 0.0576 - val_loss: 0.0213 - val_mae: 0.1050\n",
            "Epoch 6/1024\n",
            "308/313 [============================>.] - ETA: 0s - loss: 0.0070 - mae: 0.0522Restoring model weights from the end of the best epoch: 1.\n",
            "313/313 [==============================] - 2s 7ms/step - loss: 0.0070 - mae: 0.0523 - val_loss: 0.0216 - val_mae: 0.1060\n",
            "Epoch 6: early stopping\n",
            "Weights from best epoch have been loaded into model.\n"
          ]
        },
        {
          "output_type": "execute_result",
          "data": {
            "text/plain": [
              "<keras.callbacks.History at 0x7fc80eb09990>"
            ]
          },
          "metadata": {},
          "execution_count": 65
        }
      ]
    },
    {
      "cell_type": "code",
      "source": [
        "b2_predictor = ktrain.get_predictor(b2_learner.model, preproc)\n",
        "preds = b2_predictor.predict(test.text.values)\n",
        "print(f\"LinReg_DFU: {mean_absolute_error(test.DFU.values, preds):.4f}\")"
      ],
      "metadata": {
        "colab": {
          "base_uri": "https://localhost:8080/"
        },
        "id": "1sG4cwKhcxJy",
        "outputId": "5ab96746-b56f-4fb1-f27d-1f330937ab86"
      },
      "execution_count": null,
      "outputs": [
        {
          "output_type": "stream",
          "name": "stdout",
          "text": [
            "313/313 [==============================] - 0s 1ms/step\n",
            "LinReg_DFU: 0.1022\n"
          ]
        }
      ]
    },
    {
      "cell_type": "markdown",
      "source": [
        "#### FastText"
      ],
      "metadata": {
        "id": "hLk_tFwheBGn"
      }
    },
    {
      "cell_type": "code",
      "source": [
        "MODEL_NAME = \"fasttext\"\n",
        "b3 = text.text_regression_model(MODEL_NAME, train_data=trn, preproc=preproc)\n",
        "b3_learner = ktrain.get_learner(b3, train_data=trn, val_data=val, batch_size=32)"
      ],
      "metadata": {
        "colab": {
          "base_uri": "https://localhost:8080/"
        },
        "id": "VQz714p0d6n1",
        "outputId": "f117f231-58d3-425d-eeaa-95e4784b4ea9"
      },
      "execution_count": null,
      "outputs": [
        {
          "output_type": "stream",
          "name": "stdout",
          "text": [
            "maxlen is 128\n",
            "done.\n"
          ]
        }
      ]
    },
    {
      "cell_type": "code",
      "source": [
        "b3_learner.lr_find()\n",
        "b3_learner.lr_plot()"
      ],
      "metadata": {
        "colab": {
          "base_uri": "https://localhost:8080/",
          "height": 598
        },
        "id": "naTUOXjhsIRt",
        "outputId": "5d3b9469-b960-44e9-f941-853a4489bf98"
      },
      "execution_count": null,
      "outputs": [
        {
          "output_type": "stream",
          "name": "stdout",
          "text": [
            "simulating training for different learning rates... this may take a few moments...\n",
            "Epoch 1/1024\n",
            "313/313 [==============================] - 2s 4ms/step - loss: 1.6781 - mae: 1.0214\n",
            "Epoch 2/1024\n",
            "313/313 [==============================] - 1s 4ms/step - loss: 1.6115 - mae: 0.9971\n",
            "Epoch 3/1024\n",
            "313/313 [==============================] - 1s 4ms/step - loss: 1.0227 - mae: 0.7850\n",
            "Epoch 4/1024\n",
            "313/313 [==============================] - 1s 5ms/step - loss: 0.1937 - mae: 0.3080\n",
            "Epoch 5/1024\n",
            "313/313 [==============================] - 2s 5ms/step - loss: 0.0224 - mae: 0.1153\n",
            "Epoch 6/1024\n",
            "313/313 [==============================] - 1s 4ms/step - loss: 0.0243 - mae: 0.1231\n",
            "\n",
            "\n",
            "done.\n",
            "Please invoke the Learner.lr_plot() method to visually inspect the loss plot to help identify the maximal learning rate associated with falling loss.\n"
          ]
        },
        {
          "output_type": "display_data",
          "data": {
            "text/plain": [
              "<Figure size 432x288 with 1 Axes>"
            ],
            "image/png": "[encoded data removed]"
          },
          "metadata": {
            "needs_background": "light"
          }
        }
      ]
    },
    {
      "cell_type": "code",
      "source": [
        "b3_learner.autofit(1e-2)"
      ],
      "metadata": {
        "colab": {
          "base_uri": "https://localhost:8080/"
        },
        "id": "7ZdopHwOsHwM",
        "outputId": "ed3fb990-08fc-48c7-b7de-e5d24ed674b6"
      },
      "execution_count": null,
      "outputs": [
        {
          "output_type": "stream",
          "name": "stdout",
          "text": [
            "early_stopping automatically enabled at patience=5\n",
            "reduce_on_plateau automatically enabled at patience=2\n",
            "\n",
            "\n",
            "begin training using triangular learning rate policy with max lr of 0.01...\n",
            "Epoch 1/1024\n",
            "313/313 [==============================] - 3s 7ms/step - loss: 0.2098 - mae: 0.2705 - val_loss: 0.0178 - val_mae: 0.0887\n",
            "Epoch 2/1024\n",
            "313/313 [==============================] - 2s 7ms/step - loss: 0.0187 - mae: 0.1069 - val_loss: 0.0166 - val_mae: 0.1025\n",
            "Epoch 3/1024\n",
            "313/313 [==============================] - 2s 7ms/step - loss: 0.0187 - mae: 0.1074 - val_loss: 0.0165 - val_mae: 0.1020\n",
            "Epoch 4/1024\n",
            "313/313 [==============================] - 2s 7ms/step - loss: 0.0183 - mae: 0.1063 - val_loss: 0.0162 - val_mae: 0.1008\n",
            "Epoch 5/1024\n",
            "313/313 [==============================] - 2s 7ms/step - loss: 0.0180 - mae: 0.1049 - val_loss: 0.0161 - val_mae: 0.1013\n",
            "Epoch 6/1024\n",
            "313/313 [==============================] - 2s 7ms/step - loss: 0.0175 - mae: 0.1018 - val_loss: 0.0159 - val_mae: 0.0993\n",
            "Epoch 7/1024\n",
            "313/313 [==============================] - 2s 7ms/step - loss: 0.0170 - mae: 0.1009 - val_loss: 0.0158 - val_mae: 0.0978\n",
            "Epoch 8/1024\n",
            "313/313 [==============================] - 2s 7ms/step - loss: 0.0161 - mae: 0.0975 - val_loss: 0.0156 - val_mae: 0.0999\n",
            "Epoch 9/1024\n",
            "313/313 [==============================] - 2s 7ms/step - loss: 0.0158 - mae: 0.0967 - val_loss: 0.0155 - val_mae: 0.0954\n",
            "Epoch 10/1024\n",
            "313/313 [==============================] - 2s 7ms/step - loss: 0.0155 - mae: 0.0949 - val_loss: 0.0155 - val_mae: 0.0965\n",
            "Epoch 11/1024\n",
            "313/313 [==============================] - 2s 7ms/step - loss: 0.0150 - mae: 0.0930 - val_loss: 0.0154 - val_mae: 0.0968\n",
            "Epoch 12/1024\n",
            "313/313 [==============================] - 2s 8ms/step - loss: 0.0148 - mae: 0.0926 - val_loss: 0.0155 - val_mae: 0.0932\n",
            "Epoch 13/1024\n",
            "307/313 [============================>.] - ETA: 0s - loss: 0.0143 - mae: 0.0905\n",
            "Epoch 00013: Reducing Max LR on Plateau: new max lr will be 0.005 (if not early_stopping).\n",
            "313/313 [==============================] - 2s 7ms/step - loss: 0.0144 - mae: 0.0908 - val_loss: 0.0156 - val_mae: 0.0982\n",
            "Epoch 14/1024\n",
            "313/313 [==============================] - 2s 7ms/step - loss: 0.0138 - mae: 0.0896 - val_loss: 0.0153 - val_mae: 0.0916\n",
            "Epoch 15/1024\n",
            "313/313 [==============================] - 2s 7ms/step - loss: 0.0133 - mae: 0.0867 - val_loss: 0.0153 - val_mae: 0.0928\n",
            "Epoch 16/1024\n",
            "313/313 [==============================] - 2s 7ms/step - loss: 0.0127 - mae: 0.0840 - val_loss: 0.0153 - val_mae: 0.0940\n",
            "Epoch 17/1024\n",
            "307/313 [============================>.] - ETA: 0s - loss: 0.0126 - mae: 0.0837\n",
            "Epoch 00017: Reducing Max LR on Plateau: new max lr will be 0.0025 (if not early_stopping).\n",
            "313/313 [==============================] - 2s 7ms/step - loss: 0.0125 - mae: 0.0835 - val_loss: 0.0153 - val_mae: 0.0889\n",
            "Epoch 18/1024\n",
            "313/313 [==============================] - 2s 7ms/step - loss: 0.0120 - mae: 0.0811 - val_loss: 0.0153 - val_mae: 0.0906\n",
            "Epoch 19/1024\n",
            "309/313 [============================>.] - ETA: 0s - loss: 0.0118 - mae: 0.0802\n",
            "Epoch 00019: Reducing Max LR on Plateau: new max lr will be 0.00125 (if not early_stopping).\n",
            "313/313 [==============================] - 2s 7ms/step - loss: 0.0118 - mae: 0.0801 - val_loss: 0.0154 - val_mae: 0.0891\n",
            "Epoch 20/1024\n",
            "308/313 [============================>.] - ETA: 0s - loss: 0.0113 - mae: 0.0776Restoring model weights from the end of the best epoch: 15.\n",
            "313/313 [==============================] - 2s 7ms/step - loss: 0.0113 - mae: 0.0776 - val_loss: 0.0154 - val_mae: 0.0890\n",
            "Epoch 20: early stopping\n",
            "Weights from best epoch have been loaded into model.\n"
          ]
        },
        {
          "output_type": "execute_result",
          "data": {
            "text/plain": [
              "<keras.callbacks.History at 0x7fc9f70ae9d0>"
            ]
          },
          "metadata": {},
          "execution_count": 69
        }
      ]
    },
    {
      "cell_type": "code",
      "source": [
        "b3_predictor = ktrain.get_predictor(b3_learner.model, preproc)\n",
        "preds = b3_predictor.predict(test.text.values)\n",
        "print(f\"FastText_DFU: {mean_absolute_error(test.DFU.values, preds):.4f}\")"
      ],
      "metadata": {
        "colab": {
          "base_uri": "https://localhost:8080/"
        },
        "id": "LpvBmuUOeYan",
        "outputId": "cc075e0b-c9b0-4dac-9f13-8c892fca1ecf"
      },
      "execution_count": null,
      "outputs": [
        {
          "output_type": "stream",
          "name": "stdout",
          "text": [
            "313/313 [==============================] - 0s 1ms/step\n",
            "FastText_DFU: 0.0985\n"
          ]
        }
      ]
    },
    {
      "cell_type": "code",
      "source": [],
      "metadata": {
        "id": "OojWfXARzf7Z"
      },
      "execution_count": null,
      "outputs": []
    }
  ],
  "metadata": {
    "accelerator": "GPU",
    "colab": {
      "collapsed_sections": [],
      "machine_shape": "hm",
      "provenance": [],
      "authorship_tag": "ABX9TyPo4pup1bx61Y7ruyobs1JK",
      "include_colab_link": true
    },
    "gpuClass": "standard",
    "kernelspec": {
      "display_name": "Python 3",
      "name": "python3"
    },
    "language_info": {
      "name": "python"
    }
  },
  "nbformat": 4,
  "nbformat_minor": 0
}